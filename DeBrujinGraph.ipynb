{
 "cells": [
  {
   "cell_type": "code",
   "execution_count": 105,
   "metadata": {},
   "outputs": [],
   "source": [
    "from collections import defaultdict\n",
    "from graphviz import Digraph\n",
    "   \n",
    "class DiGraph:\n",
    "   \n",
    "    def __init__(self,vertices):\n",
    "        fvertices=(1<<vertices)\n",
    "        self.V= fvertices \n",
    "        self.graph = defaultdict(list) \n",
    "   \n",
    "    def addEdge(self,u,v):\n",
    "        self.graph[u].append(v)\n",
    "    \n",
    "    def DeBrujin (self,fvertices):\n",
    "        nmod=fvertices\n",
    "        for i in range(0,fvertices):\n",
    "            v=((i<<1)^1)\n",
    "            self.addEdge(i,(i<<1) % nmod)\n",
    "            self.addEdge(i, (v % nmod))\n",
    "            \n",
    "            \n",
    "    def PrintGraph(self):\n",
    "        dot = Digraph()\n",
    "        dot.attr(rankdir='LR')\n",
    "        for i in range(0,len(self.graph)):\n",
    "            for j in self.graph[i]:\n",
    "                dot.edge(str(i),str(j))\n",
    "        dot.view()"
   ]
  },
  {
   "cell_type": "code",
   "execution_count": 107,
   "metadata": {},
   "outputs": [],
   "source": [
    "n=3\n",
    "d = DiGraph(n)\n",
    "d.DeBrujin(1<<n)\n",
    "d.PrintGraph()"
   ]
  },
  {
   "cell_type": "code",
   "execution_count": null,
   "metadata": {},
   "outputs": [],
   "source": []
  }
 ],
 "metadata": {
  "kernelspec": {
   "display_name": "Python 3",
   "language": "python",
   "name": "python3"
  },
  "language_info": {
   "codemirror_mode": {
    "name": "ipython",
    "version": 3
   },
   "file_extension": ".py",
   "mimetype": "text/x-python",
   "name": "python",
   "nbconvert_exporter": "python",
   "pygments_lexer": "ipython3",
   "version": "3.7.3"
  }
 },
 "nbformat": 4,
 "nbformat_minor": 2
}
